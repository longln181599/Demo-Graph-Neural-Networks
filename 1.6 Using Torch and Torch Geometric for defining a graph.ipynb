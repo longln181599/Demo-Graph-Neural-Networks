{
 "cells": [
  {
   "cell_type": "code",
   "execution_count": 5,
   "metadata": {},
   "outputs": [
    {
     "name": "stdout",
     "output_type": "stream",
     "text": [
      "1.12.1+cpu\n"
     ]
    }
   ],
   "source": [
    "import torch\n",
    "print(torch.__version__)\n",
    "from torch_geometric.data import Data\n",
    "import networkx as nx\n",
    "from torch_geometric.utils.convert import to_networkx\n",
    "\n",
    "import numpy as np\n",
    "import pandas as pd\n",
    "import matplotlib.pyplot as plt\n",
    "import seaborn as sns"
   ]
  },
  {
   "cell_type": "code",
   "execution_count": 6,
   "metadata": {},
   "outputs": [],
   "source": [
    "\" Define a graph\"\n",
    "\n",
    "# a graph with 4 nodes\n",
    "edge_list = torch.tensor([\n",
    "                            [0, 0, 0, 1, 2, 2, 3, 3],       # Source Nodes\n",
    "                            [1, 2, 3, 0, 0, 3, 2, 0]        # Target Nodes\n",
    "                         ], dtype=torch.long)"
   ]
  },
  {
   "cell_type": "code",
   "execution_count": 7,
   "metadata": {},
   "outputs": [],
   "source": [
    "# Feature for each nodes\n",
    "# In this example, we have 6 features\n",
    "# size = 4 x 6 = Number of nodes x number of features\n",
    "node_features = torch.tensor([\n",
    "                                [-8, 1, 5, 8, 2, -3],       # Features of Nodes 0\n",
    "                                [-1, 0, 2, -3, 0, 1],       # Features of Nodes 1\n",
    "                                [1, -1, 0, -1, 2, 1],       # Features of Nodes 2\n",
    "                                [0, 1, 4, -2, 3, 4],        # Features of Nodes 3\n",
    "                            ], dtype=torch.long)"
   ]
  },
  {
   "cell_type": "code",
   "execution_count": 8,
   "metadata": {},
   "outputs": [],
   "source": [
    "# 1 Weight for each edge\n",
    "\n",
    "edge_weight = torch.tensor([\n",
    "                                [35.],          # Weight for edge (0,1)\n",
    "                                [48],           # Weight for edge (0,2)\n",
    "                                [12],           # Weight for edge (0,3)\n",
    "                                [10],           # Weight for edge (1,0)\n",
    "                                [70],           # Weight for edge (2,0)\n",
    "                                [5],            # Weight for edge (2,3)\n",
    "                                [15],           # Weight for edge (3,2)\n",
    "                                [8],            # Weight for edge (3,0)\n",
    "                            ], dtype=torch.float32)"
   ]
  },
  {
   "cell_type": "code",
   "execution_count": 9,
   "metadata": {},
   "outputs": [],
   "source": [
    "# Make a data object to store graph information\n",
    "data_torch_geometric = Data(x=node_features, edge_index=edge_list, edge_attr=edge_weight)"
   ]
  },
  {
   "cell_type": "code",
   "execution_count": 10,
   "metadata": {},
   "outputs": [
    {
     "name": "stdout",
     "output_type": "stream",
     "text": [
      "number of nodes:  4\n",
      "Number of edge:  8\n",
      "Number of features per node (length of feature):  6\n",
      "Number of weights per edge (edge-features):  1\n"
     ]
    }
   ],
   "source": [
    "\" print the graph info \"\n",
    "print(\"number of nodes: \", data_torch_geometric.num_nodes)\n",
    "print(\"Number of edge: \", data_torch_geometric.num_edges)\n",
    "print(\"Number of features per node (length of feature): \", data_torch_geometric.num_node_features)\n",
    "print(\"Number of weights per edge (edge-features): \", data_torch_geometric.num_edge_features)\n"
   ]
  },
  {
   "cell_type": "code",
   "execution_count": 11,
   "metadata": {},
   "outputs": [
    {
     "data": {
      "image/png": "[encoded data removed]",
      "text/plain": [
       "<Figure size 640x480 with 1 Axes>"
      ]
     },
     "metadata": {},
     "output_type": "display_data"
    }
   ],
   "source": [
    "\" Plot the graph \"\n",
    "G = to_networkx(data=data_torch_geometric)\n",
    "nx.draw_networkx(G)\n",
    "plt.show()"
   ]
  },
  {
   "cell_type": "code",
   "execution_count": null,
   "metadata": {},
   "outputs": [],
   "source": []
  }
 ],
 "metadata": {
  "kernelspec": {
   "display_name": "Python 3.8.13 ('py38')",
   "language": "python",
   "name": "python3"
  },
  "language_info": {
   "codemirror_mode": {
    "name": "ipython",
    "version": 3
   },
   "file_extension": ".py",
   "mimetype": "text/x-python",
   "name": "python",
   "nbconvert_exporter": "python",
   "pygments_lexer": "ipython3",
   "version": "3.8.13"
  },
  "orig_nbformat": 4,
  "vscode": {
   "interpreter": {
    "hash": "f33e2868e5ced7a03b7e05d3e55ff5b5a57b2b871625a31778da7e1e1b125329"
   }
  }
 },
 "nbformat": 4,
 "nbformat_minor": 2
}
