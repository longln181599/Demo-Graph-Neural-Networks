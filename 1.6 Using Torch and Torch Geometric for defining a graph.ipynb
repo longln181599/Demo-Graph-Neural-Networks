{
 "cells": [
  {
   "cell_type": "code",
   "execution_count": 1,
   "metadata": {},
   "outputs": [
    {
     "name": "stderr",
     "output_type": "stream",
     "text": [
      "c:\\Users\\longl\\Anaconda3\\envs\\py3.8_torch\\lib\\site-packages\\tqdm\\auto.py:22: TqdmWarning: IProgress not found. Please update jupyter and ipywidgets. See https://ipywidgets.readthedocs.io/en/stable/user_install.html\n",
      "  from .autonotebook import tqdm as notebook_tqdm\n"
     ]
    }
   ],
   "source": [
    "import torch\n",
    "from torch_geometric.data import Data"
   ]
  },
  {
   "cell_type": "code",
   "execution_count": 2,
   "metadata": {},
   "outputs": [],
   "source": [
    "\" Define a graph\"\n",
    "\n",
    "# a graph with 4 nodes\n",
    "edge_list = torch.tensor([\n",
    "                            [0, 0, 0, 1, 2, 2, 3, 3],       # Source Nodes\n",
    "                            [1, 2, 3, 0, 0, 3, 2, 0]        # Target Nodes\n",
    "                         ], dtype=torch.long)"
   ]
  },
  {
   "cell_type": "code",
   "execution_count": 3,
   "metadata": {},
   "outputs": [],
   "source": [
    "# Feature for each nodes\n",
    "# In this example, we have 6 features\n",
    "# size = 4 x 6 = Number of nodes x number of features\n",
    "node_features = torch.tensor([\n",
    "                                [-8, 1, 5, 8, 2, -3], # Features of Nodes 0\n",
    "                                [-1, 0, 2, -3, 0, 1], # Features of Nodes 1\n",
    "                                [1, -1, 0, -1, 2, 1], # Features of Nodes 2\n",
    "                                [0, 1, 4, -2, 3, 4],  # Features of Nodes 3\n",
    "                            ], dtype=torch.long)"
   ]
  },
  {
   "cell_type": "code",
   "execution_count": 4,
   "metadata": {},
   "outputs": [],
   "source": [
    "# 1 Weight for each edge\n",
    "\n",
    "edge_weight = torch.tensor([\n",
    "                                [35.],          # Weight for edge (0,1)\n",
    "                                [48],           # Weight for edge (0,2)\n",
    "                                [12],           # Weight for edge (0,3)\n",
    "                                [10],           # Weight for edge (1,0)\n",
    "                                [70],           # Weight for edge (2,0)\n",
    "                                [5],            # Weight for edge (2,3)\n",
    "                                [15],           # Weight for edge (3,2)\n",
    "                                [8],            # Weight for edge (3,0)\n",
    "                            ], dtype=torch.float32)"
   ]
  },
  {
   "cell_type": "code",
   "execution_count": null,
   "metadata": {},
   "outputs": [],
   "source": []
  }
 ],
 "metadata": {
  "kernelspec": {
   "display_name": "Python 3.8.13 ('py3.8_torch')",
   "language": "python",
   "name": "python3"
  },
  "language_info": {
   "codemirror_mode": {
    "name": "ipython",
    "version": 3
   },
   "file_extension": ".py",
   "mimetype": "text/x-python",
   "name": "python",
   "nbconvert_exporter": "python",
   "pygments_lexer": "ipython3",
   "version": "3.8.13"
  },
  "orig_nbformat": 4,
  "vscode": {
   "interpreter": {
    "hash": "f5525cf3223659c8fc1db2c2ddf9fb4cb02b6a022010ab07c082f4ae9da8ec0d"
   }
  }
 },
 "nbformat": 4,
 "nbformat_minor": 2
}
